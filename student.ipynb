{
 "cells": [
  {
   "cell_type": "markdown",
   "metadata": {},
   "source": [
    "Linear Regression Machine Learning Algorithm implementation"
   ]
  },
  {
   "cell_type": "code",
   "execution_count": 65,
   "metadata": {
    "metadata": {}
   },
   "outputs": [],
   "source": [
    "import pandas as pd\n",
    "import numpy as np\n",
    "import sklearn\n",
    "from sklearn import linear_model\n",
    "from sklearn.utils import shuffle\n",
    "import matplotlib.pyplot as  plt\n",
    "from matplotlib import style\n",
    "import pickle\n",
    "import math"
   ]
  },
  {
   "cell_type": "code",
   "execution_count": 66,
   "metadata": {
    "metadata": {}
   },
   "outputs": [],
   "source": [
    "data = pd.read_csv(\"student_mat_2173a47420.csv\",sep=\";\")"
   ]
  },
  {
   "cell_type": "code",
   "execution_count": 67,
   "metadata": {
    "metadata": {}
   },
   "outputs": [],
   "source": [
    "data = data[[\"G1\", \"G2\", \"G3\", \"studytime\",\"failures\",\"absences\"]]\n",
    "data = shuffle(data)\n",
    "predict = \"G3\"\n",
    "\n",
    "# features - attributes that determine labels\n",
    "X = np.array(data.drop([predict],axis=1))\n",
    "\n",
    "# labels - attributes to predict\n",
    "y = np.array(data[predict])\n",
    "\n",
    "\n",
    "x_train, x_test, y_train, y_test = sklearn.model_selection.train_test_split(X, y, test_size = 0.3)\n"
   ]
  },
  {
   "cell_type": "code",
   "execution_count": 68,
   "metadata": {},
   "outputs": [
    {
     "name": "stdout",
     "output_type": "stream",
     "text": [
      "86.58125431821757 %\n"
     ]
    }
   ],
   "source": [
    "best = 0\n",
    "# repetitve training to attain best results\n",
    "for _ in range(20):\n",
    "  x_train,x_test,y_train,y_test = sklearn.model_selection.train_test_split(X,y,test_size=0.3)\n",
    "  \n",
    "  linear = linear_model.LinearRegression()\n",
    "  \n",
    "  linear.fit(x_train,y_train)\n",
    "  acc = linear.score(x_test,y_test)\n",
    "  \n",
    "  if acc > best:\n",
    "    best = acc\n",
    "\n",
    "    # write model to file\n",
    "\n",
    "    with open(\"studentgrades.pickle\",\"wb\") as f:\n",
    "      pickle.dump(linear,f)\n",
    "print(best*100,\"%\")"
   ]
  },
  {
   "cell_type": "code",
   "execution_count": 69,
   "metadata": {},
   "outputs": [],
   "source": [
    "# read model from file\n",
    "\n",
    "pickle_in = open(\"studentgrades.pickle\",\"rb\")\n",
    "linear = pickle.load(pickle_in)"
   ]
  },
  {
   "cell_type": "code",
   "execution_count": 70,
   "metadata": {},
   "outputs": [
    {
     "name": "stdout",
     "output_type": "stream",
     "text": [
      "6.200863078652396 [ 6  7  2  1 15] 8\n",
      "13.235767582882106 [12 13  2  0 14] 12\n",
      "11.890915585944283 [10 12  1  0  2] 12\n",
      "12.700248819917727 [13 13  3  0  0] 13\n",
      "-1.2755406781151328 [5 0 1 3 0] 0\n",
      "7.488019343713944 [ 7  8  2  0 12] 8\n",
      "16.142474475722782 [16 16  4  0 12] 16\n",
      "14.102480043572228 [11 14  1  0  6] 14\n",
      "17.817551302160336 [16 17  1  0  4] 18\n",
      "7.381429823860051 [8 8 2 0 2] 8\n",
      "9.54295682533108 [ 7 10  2  1 25] 11\n",
      "16.07795259738889 [17 15  1  0  4] 16\n",
      "8.519560391817611 [9 9 2 0 2] 10\n",
      "9.887386637550327 [11 10  2  1 12] 10\n",
      "14.56038690679438 [15 14  2  0  8] 14\n",
      "17.07388361470008 [16 17  3  0  0] 17\n",
      "13.072082663647855 [13 13  2  0  2] 13\n",
      "11.933952095690296 [12 12  2  0  2] 11\n",
      "14.288968799526941 [13 14  1  0  0] 13\n",
      "10.530638588547895 [13 10  2  1 22] 11\n",
      "8.081777174237978 [10  8  2  0 14] 9\n",
      "4.156325448523962 [ 6  5  1  3 16] 5\n",
      "9.242820606299032 [ 8 10  2  0  0] 12\n",
      "-0.528497779845551 [7 0 2 0 0] 0\n",
      "19.470854544794836 [18 18  1  1 24] 18\n",
      "12.988353977326963 [15 13  3  2 14] 13\n",
      "15.405439198943334 [15 15  2  0  4] 15\n",
      "7.378484533472216 [10  8  1  3  3] 7\n",
      "5.07236161761319 [7 6 1 2 0] 0\n",
      "8.641352469485147 [10  9  2  0  0] 0\n",
      "3.153875435793851 [7 4 1 2 0] 0\n",
      "0.00816465129812416 [10  0  2  0  0] 0\n",
      "10.674029450065198 [10 11  2  0  4] 9\n",
      "15.29124840018262 [15 15  2  0  0] 15\n",
      "9.357011405059746 [ 8 10  2  0  4] 9\n",
      "16.608266445188075 [17 16  2  0  0] 16\n",
      "14.947532335721185 [11 15  1  0  2] 15\n",
      "8.926829466386932 [10  9  2  0 10] 10\n",
      "11.91229192714913 [13 12  3  0  6] 12\n",
      "8.104690038341472 [7 9 2 0 0] 8\n",
      "7.789951593991701 [7 9 3 0 0] 8\n",
      "14.074362264303536 [15 14  3  0  2] 15\n",
      "12.012707663611819 [11 12  1  0  0] 10\n",
      "15.470135877230511 [16 15  2  0  0] 15\n",
      "6.992161879686252 [8 8 1 3 2] 10\n",
      "7.268553105353062 [9 8 2 1 0] 0\n",
      "18.24744941349683 [18 18  4  0  6] 18\n",
      "4.603402539835925 [6 5 1 0 7] 6\n",
      "5.512437762514249 [ 7  6  2  0 10] 6\n",
      "5.18452458836237 [ 6  6  2  1 13] 8\n",
      "15.34834379956298 [15 15  2  0  2] 16\n",
      "11.454446448618375 [12 11  1  1 16] 12\n",
      "6.930840412208399 [9 8 4 0 2] 8\n",
      "12.248690540040068 [12 12  1  0  2] 11\n",
      "16.471985557464706 [14 16  1  0  3] 16\n",
      "9.765594559882793 [10 10  2  1 14] 9\n",
      "15.22655172189544 [14 15  2  0  4] 15\n",
      "12.199021619613243 [11 13  4  0  6] 14\n",
      "15.169456322515085 [14 15  2  0  2] 15\n",
      "13.308065540076104 [14 13  2  0  4] 13\n",
      "18.34786514995952 [16 18  2  0  0] 19\n",
      "9.714786359155529 [10 10  2  0  4] 11\n",
      "13.830778108968468 [13 14  3  0  6] 14\n",
      "15.755612874132296 [16 15  2  0 10] 15\n",
      "12.836099787219606 [12 13  2  0  0] 13\n",
      "14.990568845467195 [13 15  2  0  2] 16\n",
      "6.007316379474242 [6 7 2 0 0] 0\n",
      "13.107517894487048 [14 13  3  0  8] 14\n",
      "12.941436611511172 [13 12  1  0 20] 12\n",
      "12.04054161554419 [11 12  2  0 12] 11\n",
      "13.072082663647855 [13 13  2  0  2] 13\n",
      "8.170871208956806 [ 6  9  1  2 14] 8\n",
      "9.557559050648804 [ 8 10  1  0  0] 11\n",
      "11.975844937257012 [10 12  2  0 16] 11\n",
      "7.725316300395919 [ 9  8  2  1 16] 7\n",
      "8.011875580785604 [10  9  4  0  0] 0\n",
      "5.889466542567884 [8 7 2 3 8] 8\n",
      "11.010144235619817 [13 11  3  0  8] 11\n",
      "6.083665604812449 [5 8 2 3 0] 7\n",
      "5.661084945046455 [8 7 2 3 0] 0\n",
      "9.405252829970955 [ 9  9  1  0 22] 9\n",
      "6.880264008246964 [ 9  7  2  1 20] 8\n",
      "15.52723127661087 [16 15  2  0  2] 15\n",
      "14.303996557387293 [13 15  4  0  0] 15\n",
      "12.370482617707601 [13 12  1  0  0] 12\n",
      "15.112360923134727 [14 15  2  0  0] 16\n",
      "7.145446947431802 [7 8 2 0 0] 0\n",
      "12.714307709552072 [11 13  2  0  2] 13\n",
      "10.738726128352377 [11 11  2  0  0] 10\n",
      "8.971118671695272 [10 10  4  0  0] 10\n",
      "13.671584357141604 [13 13  2  0 23] 13\n",
      "14.524951675955188 [14 14  1  0  2] 14\n",
      "12.103985598269038 [14 11  1  0 18] 13\n",
      "-0.4484281316703025 [7 0 1 1 0] 0\n",
      "9.363898936208757 [ 9 10  3  0  9] 9\n",
      "9.57893539185365 [11 10  3  0  4] 11\n",
      "13.680438331610754 [12 14  3  0  7] 14\n",
      "7.324334424479694 [8 8 2 0 0] 9\n",
      "8.633751190578327 [9 9 2 0 6] 10\n",
      "4.9936060496916665 [8 6 2 2 2] 5\n",
      "4.260116395795974 [6 5 2 0 6] 6\n",
      "4.803236437667175 [ 6  5  1  0 14] 5\n",
      "9.044901121217425 [10 10  3  2  8] 10\n",
      "7.682109378575477 [10  8  2  0  0] 9\n",
      "13.952570186636002 [14 14  3  0  4] 14\n",
      "13.816719219334122 [15 14  4  0  4] 14\n",
      "15.512742466555036 [14 15  1  0  3] 16\n",
      "14.668290506902 [15 14  2  1 20] 13\n",
      "8.75554326824586 [10  9  2  0  4] 9\n",
      "7.03405472125297 [ 6  8  1  3 16] 8\n",
      "11.878170776563664 [13 12  2  1  2] 12\n",
      "7.552716022001123 [8 8 2 0 8] 6\n",
      "15.069324413388717 [12 15  1  0  0] 15\n",
      "7.918092255003726 [11  8  2  0  2] 8\n",
      "5.040472009657752 [5 6 2 0 6] 6\n",
      "9.005585034308456 [9 9 1 0 8] 10\n",
      "3.699562253481105 [6 5 1 3 0] 0\n",
      "18.533640158156427 [18 18  3  0  5] 19\n",
      "18.569789136753425 [19 18  3  0  0] 19\n"
     ]
    }
   ],
   "source": [
    "# get model predictions\n",
    "\n",
    "predicted= linear.predict(x_test)\n",
    "for x in range(len(predicted)):\n",
    "    print(predicted[x], x_test[x], y_test[x])"
   ]
  },
  {
   "cell_type": "code",
   "execution_count": 71,
   "metadata": {},
   "outputs": [
    {
     "name": "stderr",
     "output_type": "stream",
     "text": [
      "No artists with labels found to put in legend.  Note that artists whose label start with an underscore are ignored when legend() is called with no argument.\n"
     ]
    },
    {
     "data": {
      "image/png": "[encoded data removed]",
      "text/plain": [
       "<Figure size 640x480 with 1 Axes>"
      ]
     },
     "metadata": {},
     "output_type": "display_data"
    }
   ],
   "source": [
    "# plot output\n",
    "\n",
    "plot = \"failures\"\n",
    "plt.scatter(data[plot],data[predict])\n",
    "plt.legend(loc=4)\n",
    "plt.ylabel(plot)\n",
    "plt.ylabel(\"Final Grade\")\n",
    "plt.show()"
   ]
  }
 ],
 "metadata": {
  "kernelspec": {
   "display_name": "Python 3",
   "language": "python",
   "name": "python3"
  },
  "language_info": {
   "codemirror_mode": {
    "name": "ipython",
    "version": 3
   },
   "file_extension": ".py",
   "mimetype": "text/x-python",
   "name": "python",
   "nbconvert_exporter": "python",
   "pygments_lexer": "ipython3",
   "version": "3.10.12"
  }
 },
 "nbformat": 4,
 "nbformat_minor": 2
}
